{
 "cells": [
  {
   "cell_type": "markdown",
   "metadata": {},
   "source": [
    "# Linked List"
   ]
  },
  {
   "cell_type": "markdown",
   "metadata": {},
   "source": [
    "![Linked List](https://cdncontribute.geeksforgeeks.org/wp-content/uploads/Linkedlist-2.png)\n",
    "\n",
    "See https://yongdanielliang.github.io/animation/web/LinkedList.html for an animation."
   ]
  },
  {
   "cell_type": "code",
   "execution_count": 1,
   "metadata": {},
   "outputs": [],
   "source": [
    "class Element:\n",
    "    def __init__(self, data=None):\n",
    "        self.data = data\n",
    "        self.next = None"
   ]
  },
  {
   "cell_type": "code",
   "execution_count": 31,
   "metadata": {},
   "outputs": [],
   "source": [
    "class LinkedList:\n",
    "    def __init__(self, r=None):\n",
    "        self.head = None\n",
    "        self.tail = None\n",
    "        self.root = r\n",
    "        self.size = 0\n",
    "        \n",
    "        \n",
    "    def append(self, new_element):\n",
    "        \"\"\"Append the new element at the end of the list.\n",
    "        if there is no element yet in the list, it is the head element.\"\"\"\n",
    "        if not isinstance(new_element, Element):\n",
    "            new_element = Element(new_element)\n",
    "            \n",
    "        if self.head is None:\n",
    "            self.head = new_element\n",
    "        else:\n",
    "            self.tail.next = new_element\n",
    "            \n",
    "        self.tail = new_element\n",
    "        return\n",
    "    \n",
    "    \n",
    "    def length(self):\n",
    "        cur = self.head\n",
    "        total = 0 \n",
    "        while cur.next != None:\n",
    "            total += 1\n",
    "            cur = cur.next\n",
    "        return total\n",
    "    \n",
    "    \n",
    "    def get_position(self, position):\n",
    "        \"\"\"Get an element from a particular position.\n",
    "        Assume the first position is the index \"1\".\n",
    "        Return \"None\" if position is not in the list.\"\"\"\n",
    "        if position >= self.length():\n",
    "            print (\"None\")\n",
    "            return None\n",
    "        cur_pos = 0\n",
    "        cur_node = self.head\n",
    "        while True:\n",
    "            cur_node = cur_node.next\n",
    "            if cur_pos == position: return cur_node.data\n",
    "            cur_pos += 1 \n",
    "        \n",
    "        \n",
    "    def insert(self, new_element, position):\n",
    "        \"\"\"Insert a new node at the given position.\n",
    "        Assume the first position is \"1\".\n",
    "        Inserting at position 3 means between the 2nd and 3rd elements.\"\"\"\n",
    "        new_node = Element(new_element, self.root)\n",
    "        self.root = new_node\n",
    "        self.size +=1\n",
    "    \n",
    "    \n",
    "    def delete(self, data):\n",
    "        \"\"\"Delete the first node with a given value.\"\"\"\n",
    "        this_node = self.root\n",
    "        prev_node = None\n",
    "        \n",
    "        while this_node is not None:\n",
    "            if this_nodoe.get_data() == data:\n",
    "                if prev_node is not None:\n",
    "                    prev_node.set_next(this_node.get_next())\n",
    "                else:\n",
    "                    self.root = this_node.get_next()\n",
    "                self.size -= 1 \n",
    "                return True \n",
    "            else:\n",
    "                prev_node = this_node\n",
    "                this_node = this_node.get_next()\n",
    "        return False"
   ]
  },
  {
   "cell_type": "code",
   "execution_count": 20,
   "metadata": {},
   "outputs": [],
   "source": [
    "# Test cases\n",
    "# Set up some Elements\n",
    "e1 = Element(1)\n",
    "e2 = Element(2)\n",
    "e3 = Element(3)\n",
    "e4 = Element(4)\n",
    "\n",
    "# Start setting up a LinkedList\n",
    "llist = LinkedList()\n",
    "llist.append(e1)\n",
    "llist.append(e2)\n",
    "llist.append(e3)"
   ]
  },
  {
   "cell_type": "code",
   "execution_count": 6,
   "metadata": {},
   "outputs": [
    {
     "name": "stdout",
     "output_type": "stream",
     "text": [
      "3\n"
     ]
    }
   ],
   "source": [
    "# Test if appends were correct\n",
    "# Should be 3\n",
    "print(llist.head.next.next.data)"
   ]
  },
  {
   "cell_type": "code",
   "execution_count": 24,
   "metadata": {},
   "outputs": [
    {
     "name": "stdout",
     "output_type": "stream",
     "text": [
      "None\n",
      "None\n"
     ]
    }
   ],
   "source": [
    "# Test get_position\n",
    "# Should also be 3\n",
    "print(llist.get_position(3))"
   ]
  },
  {
   "cell_type": "code",
   "execution_count": 32,
   "metadata": {},
   "outputs": [
    {
     "ename": "TypeError",
     "evalue": "__init__() takes from 1 to 2 positional arguments but 3 were given",
     "output_type": "error",
     "traceback": [
      "\u001b[0;31m---------------------------------------------------------------------------\u001b[0m",
      "\u001b[0;31mTypeError\u001b[0m                                 Traceback (most recent call last)",
      "\u001b[0;32m<ipython-input-32-086d8d71e19e>\u001b[0m in \u001b[0;36m<module>\u001b[0;34m\u001b[0m\n\u001b[1;32m      1\u001b[0m \u001b[0;31m# Test insert\u001b[0m\u001b[0;34m\u001b[0m\u001b[0;34m\u001b[0m\u001b[0;34m\u001b[0m\u001b[0m\n\u001b[0;32m----> 2\u001b[0;31m \u001b[0mllist\u001b[0m\u001b[0;34m.\u001b[0m\u001b[0minsert\u001b[0m\u001b[0;34m(\u001b[0m\u001b[0me4\u001b[0m\u001b[0;34m,\u001b[0m\u001b[0;36m3\u001b[0m\u001b[0;34m)\u001b[0m\u001b[0;34m\u001b[0m\u001b[0;34m\u001b[0m\u001b[0m\n\u001b[0m\u001b[1;32m      3\u001b[0m \u001b[0;31m# Should print 4 now\u001b[0m\u001b[0;34m\u001b[0m\u001b[0;34m\u001b[0m\u001b[0;34m\u001b[0m\u001b[0m\n\u001b[1;32m      4\u001b[0m \u001b[0mprint\u001b[0m\u001b[0;34m(\u001b[0m\u001b[0mllist\u001b[0m\u001b[0;34m.\u001b[0m\u001b[0mget_position\u001b[0m\u001b[0;34m(\u001b[0m\u001b[0;36m3\u001b[0m\u001b[0;34m)\u001b[0m\u001b[0;34m.\u001b[0m\u001b[0mdata\u001b[0m\u001b[0;34m)\u001b[0m\u001b[0;34m\u001b[0m\u001b[0;34m\u001b[0m\u001b[0m\n",
      "\u001b[0;32m<ipython-input-19-df7f7bf8a71d>\u001b[0m in \u001b[0;36minsert\u001b[0;34m(self, new_element, position)\u001b[0m\n\u001b[1;32m     51\u001b[0m         \u001b[0mAssume\u001b[0m \u001b[0mthe\u001b[0m \u001b[0mfirst\u001b[0m \u001b[0mposition\u001b[0m \u001b[0;32mis\u001b[0m \u001b[0;34m\"1\"\u001b[0m\u001b[0;34m.\u001b[0m\u001b[0;34m\u001b[0m\u001b[0;34m\u001b[0m\u001b[0m\n\u001b[1;32m     52\u001b[0m         Inserting at position 3 means between the 2nd and 3rd elements.\"\"\"\n\u001b[0;32m---> 53\u001b[0;31m         \u001b[0mnew_node\u001b[0m \u001b[0;34m=\u001b[0m \u001b[0mElement\u001b[0m\u001b[0;34m(\u001b[0m\u001b[0mnew_element\u001b[0m\u001b[0;34m,\u001b[0m \u001b[0mself\u001b[0m\u001b[0;34m.\u001b[0m\u001b[0mroot\u001b[0m\u001b[0;34m)\u001b[0m\u001b[0;34m\u001b[0m\u001b[0;34m\u001b[0m\u001b[0m\n\u001b[0m\u001b[1;32m     54\u001b[0m         \u001b[0mself\u001b[0m\u001b[0;34m.\u001b[0m\u001b[0mroot\u001b[0m \u001b[0;34m=\u001b[0m \u001b[0mnew_node\u001b[0m\u001b[0;34m\u001b[0m\u001b[0;34m\u001b[0m\u001b[0m\n\u001b[1;32m     55\u001b[0m         \u001b[0mself\u001b[0m\u001b[0;34m.\u001b[0m\u001b[0msize\u001b[0m \u001b[0;34m+=\u001b[0m\u001b[0;36m1\u001b[0m\u001b[0;34m\u001b[0m\u001b[0;34m\u001b[0m\u001b[0m\n",
      "\u001b[0;31mTypeError\u001b[0m: __init__() takes from 1 to 2 positional arguments but 3 were given"
     ]
    }
   ],
   "source": [
    "# Test insert\n",
    "llist.insert(e4,3)\n",
    "# Should print 4 now\n",
    "print(llist.get_position(3).data)"
   ]
  },
  {
   "cell_type": "code",
   "execution_count": 34,
   "metadata": {},
   "outputs": [
    {
     "name": "stdout",
     "output_type": "stream",
     "text": [
      "3\n",
      "None\n",
      "None\n",
      "None\n",
      "None\n"
     ]
    }
   ],
   "source": [
    "# Test delete\n",
    "llist.delete(1)\n",
    "# Should print 2 now\n",
    "print(llist.get_position(1))\n",
    "# Should print 4 now\n",
    "print(llist.get_position(2))\n",
    "# Should print 3 now\n",
    "print(llist.get_position(3))"
   ]
  }
 ],
 "metadata": {
  "kernelspec": {
   "display_name": "Python 3",
   "language": "python",
   "name": "python3"
  },
  "language_info": {
   "codemirror_mode": {
    "name": "ipython",
    "version": 3
   },
   "file_extension": ".py",
   "mimetype": "text/x-python",
   "name": "python",
   "nbconvert_exporter": "python",
   "pygments_lexer": "ipython3",
   "version": "3.7.6"
  },
  "varInspector": {
   "cols": {
    "lenName": 16,
    "lenType": 16,
    "lenVar": 40
   },
   "kernels_config": {
    "python": {
     "delete_cmd_postfix": "",
     "delete_cmd_prefix": "del ",
     "library": "var_list.py",
     "varRefreshCmd": "print(var_dic_list())"
    },
    "r": {
     "delete_cmd_postfix": ") ",
     "delete_cmd_prefix": "rm(",
     "library": "var_list.r",
     "varRefreshCmd": "cat(var_dic_list()) "
    }
   },
   "types_to_exclude": [
    "module",
    "function",
    "builtin_function_or_method",
    "instance",
    "_Feature"
   ],
   "window_display": false
  }
 },
 "nbformat": 4,
 "nbformat_minor": 2
}
